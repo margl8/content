{
 "cells": [
  {
   "cell_type": "markdown",
   "metadata": {},
   "source": [
    "Рассмотрим типы данных на примере контента для соцсетей. \n",
    "Возьмём за основу API Вконтакте"
   ]
  },
  {
   "cell_type": "code",
   "execution_count": 28,
   "metadata": {},
   "outputs": [
    {
     "data": {
      "text/plain": [
       "dict"
      ]
     },
     "execution_count": 28,
     "metadata": {},
     "output_type": "execute_result"
    }
   ],
   "source": [
    "#я импотировала API реального поста и упростила его. Заполненный пост - это словарь\n",
    "post = {\n",
    "\"id\":1,\n",
    "\"from_id\":-123,\n",
    "\"owner_id\":-123,\n",
    "\"date\":1663647243,\n",
    "\"marked_as_ads\":0,\n",
    "\"post_type\":\"post\",\n",
    "\"text\":\"Котёночек\",\n",
    "\"attachments\": [\n",
    "    {\n",
    "        \"type\":\"photo\",\n",
    "        \"photo\":\n",
    "        {\n",
    "            \"url\":\"https:kitten.jpg\",\n",
    "            \"alternative_text\": \"котёночек\"\n",
    "        }\n",
    "    }\n",
    "    ],\n",
    "\"comments\": {\n",
    "    \"count\": 3,\n",
    "    },\n",
    "\"likes\": {\n",
    "    \"count\": 5,\n",
    "    },\n",
    "\"reposts\": {\n",
    "    \"count\": 1,\n",
    "    },\n",
    "\"views\": {\n",
    "    \"count\": 379\n",
    "    }\n",
    "}\n",
    "\n",
    "type(post)"
   ]
  },
  {
   "cell_type": "code",
   "execution_count": 27,
   "metadata": {},
   "outputs": [
    {
     "data": {
      "text/plain": [
       "tuple"
      ]
     },
     "execution_count": 27,
     "metadata": {},
     "output_type": "execute_result"
    }
   ],
   "source": [
    "#\"скелет\" поста без наполнения - это кортеж \n",
    "post_metadata = (\n",
    "    \"id\",\n",
    "    \"from_id\",\n",
    "    \"owner_id\",\n",
    "    \"date\",\n",
    "    \"marked_as_ads\",\n",
    "    \"post_type\",\n",
    "    \"text\",\n",
    "    \"attachments\",\n",
    "    \"comments\",\n",
    "    \"likes\",\n",
    "    \"reposts\",\n",
    "    \"views\"\n",
    "    )\n",
    "\n",
    "type(post_metadata)"
   ]
  },
  {
   "cell_type": "code",
   "execution_count": 26,
   "metadata": {},
   "outputs": [
    {
     "data": {
      "text/plain": [
       "list"
      ]
     },
     "execution_count": 26,
     "metadata": {},
     "output_type": "execute_result"
    }
   ],
   "source": [
    "#типы прикреплений в посте - это список (а точнее список со словарями, где словарь - описание единицы контента)\n",
    "attachments = [\"photo\", \"video\", \"audio\", \"doc\", \"link\", \"market\", \"market_album\", \"wall\", \"wall_reply\"]\n",
    "\n",
    "type(attachments)"
   ]
  }
 ],
 "metadata": {
  "kernelspec": {
   "display_name": "Python 3.11.0 64-bit",
   "language": "python",
   "name": "python3"
  },
  "language_info": {
   "codemirror_mode": {
    "name": "ipython",
    "version": 3
   },
   "file_extension": ".py",
   "mimetype": "text/x-python",
   "name": "python",
   "nbconvert_exporter": "python",
   "pygments_lexer": "ipython3",
   "version": "3.11.0"
  },
  "orig_nbformat": 4,
  "vscode": {
   "interpreter": {
    "hash": "ebfc0a8d552866b0d59eba665220a57de3bc06f3ac643b8bef38dd8f66781fdd"
   }
  }
 },
 "nbformat": 4,
 "nbformat_minor": 2
}
