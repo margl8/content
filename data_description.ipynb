{
 "cells": [
  {
   "cell_type": "code",
   "execution_count": null,
   "metadata": {},
   "outputs": [],
   "source": [
    "wall.get = (\n",
    "    owner_id\n",
    "    domain\n",
    "    offset\n",
    "    count\n",
    "    filter\n",
    "    extended\n",
    ")"
   ]
  },
  {
   "cell_type": "code",
   "execution_count": null,
   "metadata": {},
   "outputs": [],
   "source": [
    "#кортеж - типы метаданных\n",
    "stats.getPostReach = (\n",
    "    reach_subscribers\n",
    "    reach_total\n",
    "    reach_ads\n",
    "    reach_viral\n",
    "    links\n",
    "    to_group\n",
    "    join_group\n",
    "    report\n",
    "    hide\n",
    "    unsubscribe \n",
    ")"
   ]
  },
  {
   "cell_type": "code",
   "execution_count": null,
   "metadata": {},
   "outputs": [],
   "source": [
    "словарь - сам пост"
   ]
  },
  {
   "cell_type": "code",
   "execution_count": null,
   "metadata": {},
   "outputs": [],
   "source": [
    "подсчёт ER"
   ]
  }
 ],
 "metadata": {
  "kernelspec": {
   "display_name": "Python 3.10.7 64-bit",
   "language": "python",
   "name": "python3"
  },
  "language_info": {
   "name": "python",
   "version": "3.10.7"
  },
  "orig_nbformat": 4,
  "vscode": {
   "interpreter": {
    "hash": "afb734500600fd355917ca529030176ea0ca205570884b88f2f6f7d791fd3fbe"
   }
  }
 },
 "nbformat": 4,
 "nbformat_minor": 2
}
