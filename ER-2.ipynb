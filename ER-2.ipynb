{
 "cells": [
  {
   "cell_type": "code",
   "execution_count": 20,
   "metadata": {},
   "outputs": [],
   "source": [
    "# снова вводим переменные для вычисления ER\n",
    "like = int(input('Введите число лайков'))\n",
    "comment = int(input('Введите число комментариев'))\n",
    "repost = int(input('Введите число репостов'))\n",
    "subscribers = int(input('Введите число подписчиков'))\n",
    "reach_post = int(input('Введите число основного охвата'))"
   ]
  },
  {
   "cell_type": "code",
   "execution_count": 21,
   "metadata": {},
   "outputs": [],
   "source": [
    "#добавляем формулы для вычисления\n",
    "ER_per_post = (like + comment + repost) / subscribers\n",
    "ER_per_reach = (like + comment + repost) / reach_post"
   ]
  },
  {
   "cell_type": "code",
   "execution_count": 22,
   "metadata": {},
   "outputs": [],
   "source": [
    "#предложим выбрать тип ER для вычисления \n",
    "ER_type = str(input('Вам нужно вычислить ER или ERR? Введите нужный тип для вычисления: ER или ERR'))"
   ]
  },
  {
   "cell_type": "code",
   "execution_count": 23,
   "metadata": {},
   "outputs": [
    {
     "name": "stdout",
     "output_type": "stream",
     "text": [
      "0.6%\n"
     ]
    }
   ],
   "source": [
    "#выводим выбранный тип ER\n",
    "if ER_type == \"ER\":\n",
    "    print(f\"{ER_per_post:.1%}\")\n",
    "elif  ER_type == \"ERR\":\n",
    "        print(f\"{ER_per_reach:.1%}\")\n",
    "else: print('Ошибка')"
   ]
  }
 ],
 "metadata": {
  "kernelspec": {
   "display_name": "Python 3.10.7 64-bit",
   "language": "python",
   "name": "python3"
  },
  "language_info": {
   "codemirror_mode": {
    "name": "ipython",
    "version": 3
   },
   "file_extension": ".py",
   "mimetype": "text/x-python",
   "name": "python",
   "nbconvert_exporter": "python",
   "pygments_lexer": "ipython3",
   "version": "3.10.7"
  },
  "orig_nbformat": 4,
  "vscode": {
   "interpreter": {
    "hash": "afb734500600fd355917ca529030176ea0ca205570884b88f2f6f7d791fd3fbe"
   }
  }
 },
 "nbformat": 4,
 "nbformat_minor": 2
}
