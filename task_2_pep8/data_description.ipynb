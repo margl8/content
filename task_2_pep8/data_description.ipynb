{
 "cells": [
  {
   "cell_type": "markdown",
   "metadata": {},
   "source": [
    "Рассмотрим типы данных на примере контента для соцсетей. \n",
    "Возьмём за основу API Вконтакте"
   ]
  },
  {
   "cell_type": "code",
   "execution_count": 1,
   "metadata": {},
   "outputs": [
    {
     "data": {
      "text/plain": [
       "dict"
      ]
     },
     "execution_count": 1,
     "metadata": {},
     "output_type": "execute_result"
    }
   ],
   "source": [
    "#я импотировала API реального поста и упростила его. Заполненный пост - это словарь\n",
    "post = {\n",
    "    \"id\":1,\n",
    "    \"from_id\":-123,\n",
    "    \"owner_id\":-123,\n",
    "    \"date\":1663647243,\n",
    "    \"marked_as_ads\":0,\n",
    "    \"post_type\":\"post\",\n",
    "    \"text\":\"Котёночек\",\n",
    "    \"attachments\": [\n",
    "        {\n",
    "        \"type\":\"photo\",\n",
    "        \"photo\":\n",
    "            {\n",
    "                \"url\":\"https:kitten.jpg\",\n",
    "                \"alternative_text\": \"котёночек\"\n",
    "            }\n",
    "        }\n",
    "    ],\n",
    "    \"comments\": {\"count\": 3},\n",
    "    \"likes\": {\"count\": 5},\n",
    "    \"reposts\": {\"count\": 1},\n",
    "    \"views\": {\"count\": 379}\n",
    "}\n",
    "\n",
    "type(post)"
   ]
  },
  {
   "cell_type": "code",
   "execution_count": 2,
   "metadata": {},
   "outputs": [
    {
     "data": {
      "text/plain": [
       "tuple"
      ]
     },
     "execution_count": 2,
     "metadata": {},
     "output_type": "execute_result"
    }
   ],
   "source": [
    "#\"скелет\" поста без наполнения - это кортеж \n",
    "post_metadata = (\n",
    "    \"id\", \"from_id\", \"owner_id\",\n",
    "    \"date\", \"marked_as_ads\", \"post_type\",\n",
    "    \"text\", \"attachments\", \"comments\",\n",
    "    \"likes\", \"reposts\", \"views\"\n",
    "    )\n",
    "\n",
    "type(post_metadata)"
   ]
  },
  {
   "cell_type": "code",
   "execution_count": 3,
   "metadata": {},
   "outputs": [
    {
     "data": {
      "text/plain": [
       "list"
      ]
     },
     "execution_count": 3,
     "metadata": {},
     "output_type": "execute_result"
    }
   ],
   "source": [
    "#типы прикреплений в посте - это список\n",
    "attachments = [\n",
    "    \"photo\", \"video\", \"audio\", \n",
    "    \"doc\", \"link\", \"market\", \n",
    "    \"market_album\", \"wall\", \"wall_reply\"\n",
    "    ]\n",
    "\n",
    "type(attachments)"
   ]
  }
 ],
 "metadata": {
  "kernelspec": {
   "display_name": "Python 3.11.0 64-bit",
   "language": "python",
   "name": "python3"
  },
  "language_info": {
   "codemirror_mode": {
    "name": "ipython",
    "version": 3
   },
   "file_extension": ".py",
   "mimetype": "text/x-python",
   "name": "python",
   "nbconvert_exporter": "python",
   "pygments_lexer": "ipython3",
   "version": "3.11.0"
  },
  "orig_nbformat": 4,
  "vscode": {
   "interpreter": {
    "hash": "ebfc0a8d552866b0d59eba665220a57de3bc06f3ac643b8bef38dd8f66781fdd"
   }
  }
 },
 "nbformat": 4,
 "nbformat_minor": 2
}
