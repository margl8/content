{
 "cells": [
  {
   "cell_type": "markdown",
   "metadata": {},
   "source": [
    "Калькулятор ER \n",
    "ER - engagement rate - показатель в SMM, отражающий заинтересованность пользователей в контенте. \n",
    "Типы ER и вычисление\n",
    "ER per post: (лайки + комментарии + репосты + голоса в опросе поста/\n",
    "ER per reach: (лайки + комментарии + репосты + голоса в опросе поста/"
   ]
  },
  {
   "cell_type": "code",
   "execution_count": 16,
   "metadata": {},
   "outputs": [],
   "source": [
    "# вводим переменные для вычисления ER, все переменные - целые числа \n",
    "like = int(input('Введите число лайков'))\n",
    "comment = int(input('Введите число комментариев'))\n",
    "repost = int(input('Введите число репостов'))\n",
    "subscribers = int(input('Введите число подписчиков'))\n",
    "reach_post = int(input('Введите число основного охвата'))\n",
    "#jopa"
   ]
  },
  {
   "cell_type": "code",
   "execution_count": 17,
   "metadata": {},
   "outputs": [],
   "source": [
    "#вычисляем ER поста \n",
    "ER_per_post = (like + comment + repost) / subscribers"
   ]
  },
  {
   "cell_type": "code",
   "execution_count": 18,
   "metadata": {},
   "outputs": [
    {
     "name": "stdout",
     "output_type": "stream",
     "text": [
      "6.0%\n"
     ]
    }
   ],
   "source": [
    "#выводим результат\n",
    "print(f\"{ER_per_post:.1%}\")"
   ]
  }
 ],
 "metadata": {
  "kernelspec": {
   "display_name": "Python 3.10.7 64-bit",
   "language": "python",
   "name": "python3"
  },
  "language_info": {
   "codemirror_mode": {
    "name": "ipython",
    "version": 3
   },
   "file_extension": ".py",
   "mimetype": "text/x-python",
   "name": "python",
   "nbconvert_exporter": "python",
   "pygments_lexer": "ipython3",
   "version": "3.10.7"
  },
  "orig_nbformat": 4,
  "vscode": {
   "interpreter": {
    "hash": "afb734500600fd355917ca529030176ea0ca205570884b88f2f6f7d791fd3fbe"
   }
  }
 },
 "nbformat": 4,
 "nbformat_minor": 2
}
