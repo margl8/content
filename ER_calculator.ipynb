{
 "cells": [
  {
   "cell_type": "markdown",
   "metadata": {},
   "source": [
    "Калькулятор ER \n",
    "ER - engagement rate - показатель в SMM, отражающий заинтересованность пользователей в контенте. \n",
    "Считается как соотношение реакций на контент к охвату или подписчикам\n",
    "Для алгоритмов соцсетей ER гораздо ценнее, чем кол-во положительных реакций,\n",
    "поэтому важно оценивать этот показатель\n",
    "\n",
    "Типы ER и вычисление\n",
    "ER per post: (лайки + комментарии + репосты + голоса в опросе поста/кол=во подписчиков)\n",
    "ER per reach: (лайки + комментарии + репосты + голоса в опросе поста/охват)"
   ]
  },
  {
   "cell_type": "code",
   "execution_count": 37,
   "metadata": {},
   "outputs": [],
   "source": [
    "# вводим переменные для вычисления ER, все переменные - целые числа \n",
    "likes = int(input('Введите число лайков'))\n",
    "comments = int(input('Введите число комментариев'))\n",
    "reposts = int(input('Введите число репостов'))\n",
    "subscribers = int(input('Введите число подписчиков'))\n",
    "views = int(input('Введите число основного охвата'))\n",
    "ER_per_post = (likes + comments + reposts) / subscribers\n",
    "ER_per_reach = (likes + comments + reposts) / views"
   ]
  },
  {
   "cell_type": "code",
   "execution_count": 38,
   "metadata": {},
   "outputs": [],
   "source": [
    "#опредеяем тип ER\n",
    "ER_type = str(input('Вам нужно вычислить ER или ERR? Введите нужный тип для вычисления: ER или ERR'))"
   ]
  },
  {
   "cell_type": "code",
   "execution_count": 39,
   "metadata": {},
   "outputs": [
    {
     "name": "stdout",
     "output_type": "stream",
     "text": [
      "1.2%\n"
     ]
    }
   ],
   "source": [
    "#вычисляем ER поста и выводим результат\n",
    "if ER_type == \"ER\":\n",
    "    print(f\"{ER_per_post:.1%}\")\n",
    "elif  ER_type == \"ERR\":\n",
    "    print(f\"{ER_per_reach:.1%}\")\n",
    "else: \n",
    "    print('Ошибка')"
   ]
  }
 ],
 "metadata": {
  "kernelspec": {
   "display_name": "Python 3.10.7 64-bit",
   "language": "python",
   "name": "python3"
  },
  "language_info": {
   "codemirror_mode": {
    "name": "ipython",
    "version": 3
   },
   "file_extension": ".py",
   "mimetype": "text/x-python",
   "name": "python",
   "nbconvert_exporter": "python",
   "pygments_lexer": "ipython3",
   "version": "3.10.7"
  },
  "orig_nbformat": 4,
  "vscode": {
   "interpreter": {
    "hash": "afb734500600fd355917ca529030176ea0ca205570884b88f2f6f7d791fd3fbe"
   }
  }
 },
 "nbformat": 4,
 "nbformat_minor": 2
}
